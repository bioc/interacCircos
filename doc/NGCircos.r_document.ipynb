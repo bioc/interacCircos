{
 "cells": [
  {
   "cell_type": "markdown",
   "metadata": {},
   "source": [
    "# Introduction"
   ]
  },
  {
   "cell_type": "markdown",
   "metadata": {},
   "source": [
    "NGCircos is developed in Javascript and displayed in html, based on D3 and JQuery libraries. \n",
    "Since R language is much more friendly in data visualization and plot programming than html, we ported NGCircos to this R package based on the *htmlwidgets* framework."
   ]
  },
  {
   "cell_type": "markdown",
   "metadata": {
    "ExecuteTime": {
     "end_time": "2020-10-21T07:49:18.109204Z",
     "start_time": "2020-10-21T07:49:18.053Z"
    }
   },
   "source": [
    "# Features"
   ]
  },
  {
   "cell_type": "markdown",
   "metadata": {},
   "source": [
    "* 20 modules(*ARC*, *AUXILIARYLINE*, *BACKGROUND*, *BUBBLE*, *CHORD*, *CNV*, *COMBINATION*, *COMPARE*, *GENE*, *HEATMAP*, *HISTOGRAM*, *LEGEND*, *LINE*, *LINK*, *LOLLIPOP*, *REDIRECT*, *SCATTER*, *SNP*, *TEXT*, *WIG*) of NGCircos are ported to NGCircos.r and all parameters and animations are kept. All modules are now presented in function.\n",
    "* Instead of transforming data using python script in NGCircos, the data file can be directly input into NGCircos.r which will automatically transform data into data.frame and then be input to module function.\n",
    "* NGCircos.r is much more programming friendly than NGCircos. Users can draw a interactive Circos plot as easy as drawing a plot using ggplot2."
   ]
  },
  {
   "cell_type": "markdown",
   "metadata": {},
   "source": [
    "# Installation"
   ]
  },
  {
   "cell_type": "markdown",
   "metadata": {},
   "source": [
    "NGCircos.r is available at https://github.com/mrcuizhe/NGCircos.r"
   ]
  },
  {
   "cell_type": "code",
   "execution_count": null,
   "metadata": {
    "ExecuteTime": {
     "end_time": "2020-10-21T07:56:46.324173Z",
     "start_time": "2020-10-21T07:55:42.736Z"
    },
    "scrolled": true
   },
   "outputs": [],
   "source": [
    "# You need devtools for that\n",
    "if (!require('devtools')){install.packages('devtools')}\n",
    "\n",
    "devtools::install_github('mrcuizhe/NGCircos.r', build_vignettes = TRUE)"
   ]
  },
  {
   "cell_type": "markdown",
   "metadata": {},
   "source": [
    "# How to draw an interactive Circos plot using NGCircos.r"
   ]
  },
  {
   "cell_type": "markdown",
   "metadata": {},
   "source": [
    "If you are a NGCircos user and familiar with the modules and its data structrue, it will only take you a few moment for getting used to NGCircos.r. "
   ]
  },
  {
   "cell_type": "markdown",
   "metadata": {},
   "source": [
    "Same as NGCircos, a main function called *NGCircos()* is neccesary to display the genome for Circos plot, which is the coordinates basis for all modules. "
   ]
  },
  {
   "cell_type": "markdown",
   "metadata": {},
   "source": [
    "20 Modules are added to genome through a parameter in *NGCircos()* called *moduleList*. An empty moduleList is set by default and module can be added by plusing a module to *moduleList*. For example, moduleList=NGCircosText()+NGCircosBackground() means apply a TEXT module and BACKGROUND module together. The other parameters in *NGCircos()* are all correspond to that in Javascript version one to one."
   ]
  },
  {
   "cell_type": "markdown",
   "metadata": {},
   "source": [
    "For 3 of 20 modules(*COMBINATION*, *COMPARE*, *REDIRECT*), their parameters are included in *NGCircos()*"
   ]
  },
  {
   "cell_type": "markdown",
   "metadata": {},
   "source": [
    "For the other 17 of 20 modules, which has a independent function(*NGCircosArc()*, *NGCircosAuxLine()*, *NGCircosBackground()*, *NGCircosBubble()*, *NGCircosChord()*, *NGCircosCnv()*, *NGCircosGene()*, *NGCircosHeatmap()*, *NGCircosHistogram()*, *NGCircosLegend()*, *NGCircosLine()*, *NGCircosLink()*, *NGCircosLollipop()*, *NGCircosScatter()*, *NGCircosSnp()*, *NGCircosText()*, *NGCircosWig()*), all data(if yes) are input through a parameter called *data* in a data.frame structure. All other parameters are all correspond to that in Jacascript version one to one. "
   ]
  },
  {
   "cell_type": "markdown",
   "metadata": {},
   "source": [
    "## Genome configuration"
   ]
  },
  {
   "cell_type": "markdown",
   "metadata": {},
   "source": [
    "default:"
   ]
  },
  {
   "cell_type": "code",
   "execution_count": null,
   "metadata": {
    "ExecuteTime": {
     "end_time": "2020-10-21T10:53:36.830834Z",
     "start_time": "2020-10-21T10:53:36.410Z"
    }
   },
   "outputs": [],
   "source": [
    "library(NGCircos)\n",
    "NGCircos(zoom=FALSE)"
   ]
  },
  {
   "cell_type": "markdown",
   "metadata": {},
   "source": [
    "The genome is set by defult as hg19, the genome can be changed by setting genome=list(\"Example1\"=100,\"Example2\"=200,\"Example3\"=300). Meanwhile, the color of each chromosome can be changed by setting genomeFillColor = c(\"red\",\"blue\",\"green\")"
   ]
  },
  {
   "cell_type": "code",
   "execution_count": null,
   "metadata": {
    "ExecuteTime": {
     "end_time": "2020-10-21T10:53:37.975687Z",
     "start_time": "2020-10-21T10:53:37.672Z"
    }
   },
   "outputs": [],
   "source": [
    "library(NGCircos)\n",
    "NGCircos(genome=list(\"Example1\"=100,\"Example2\"=200,\"Example3\"=300),genomeFillColor = c(\"red\",\"blue\",\"green\"))"
   ]
  },
  {
   "cell_type": "markdown",
   "metadata": {},
   "source": [
    "The filling color for chromosome can also be set automatically by choosing a *RColorBrewer* palette, such as *Blues*"
   ]
  },
  {
   "cell_type": "code",
   "execution_count": null,
   "metadata": {
    "ExecuteTime": {
     "end_time": "2020-10-21T10:53:38.312628Z",
     "start_time": "2020-10-21T10:53:38.022Z"
    }
   },
   "outputs": [],
   "source": [
    "library(NGCircos)\n",
    "NGCircos(genome=list(\"Example1\"=100,\"Example2\"=200,\"Example3\"=300),genomeFillColor = \"Blues\")"
   ]
  },
  {
   "cell_type": "markdown",
   "metadata": {},
   "source": [
    "Other parameters are documented and try ?NGCircos() for details"
   ]
  },
  {
   "cell_type": "code",
   "execution_count": null,
   "metadata": {
    "ExecuteTime": {
     "end_time": "2020-10-21T10:53:38.608154Z",
     "start_time": "2020-10-21T10:53:38.351Z"
    }
   },
   "outputs": [],
   "source": [
    "library(NGCircos)\n",
    "NGCircos(genome=list(\"Example1\"=100,\"Example2\"=200,\"Example3\"=300),genomeFillColor = \"Blues\",chrPad = 0,genomeTicksDisplay = TRUE,genomeTicksScale = 10,genomeLabelDisplay = FALSE)"
   ]
  },
  {
   "cell_type": "markdown",
   "metadata": {},
   "source": [
    "## Adding module through *moduleList*"
   ]
  },
  {
   "cell_type": "markdown",
   "metadata": {},
   "source": [
    "17 modules(*NGCircosArc()*, *NGCircosAuxLine()*, *NGCircosBackground()*, *NGCircosBubble()*, *NGCircosChord()*, *NGCircosCnv()*, *NGCircosGene()*, *NGCircosHeatmap()*, *NGCircosHistogram()*, *NGCircosLegend()*, *NGCircosLine()*, *NGCircosLink()*, *NGCircosLollipop()*, *NGCircosScatter()*, *NGCircosSnp()*, *NGCircosText()*, *NGCircosWig()*) are added by using \"+\" in *moduleList*, for example: "
   ]
  },
  {
   "cell_type": "code",
   "execution_count": null,
   "metadata": {
    "ExecuteTime": {
     "end_time": "2020-10-21T10:53:39.101363Z",
     "start_time": "2020-10-21T10:53:38.831Z"
    }
   },
   "outputs": [],
   "source": [
    "library(NGCircos)\n",
    "moduleList<-NGCircosText('text01', 'Annotation', color = '#DD2222', x = -40) + NGCircosBackground('bg01', fillColors=\"#FFEEEE\", borderSize = 1)\n",
    "NGCircos(moduleList = moduleList)"
   ]
  },
  {
   "cell_type": "markdown",
   "metadata": {},
   "source": [
    "Details for each module are presented below:"
   ]
  },
  {
   "cell_type": "markdown",
   "metadata": {},
   "source": [
    "# Module Demo"
   ]
  },
  {
   "cell_type": "markdown",
   "metadata": {},
   "source": [
    "## Auxiliary line module"
   ]
  },
  {
   "cell_type": "markdown",
   "metadata": {},
   "source": [
    "There is no data input for Auxiliary line module. The details for parameters are available by ?NGCircosAuxLine\n",
    "An example for Auxiliary line module:"
   ]
  },
  {
   "cell_type": "code",
   "execution_count": null,
   "metadata": {
    "ExecuteTime": {
     "end_time": "2020-10-21T10:53:39.889361Z",
     "start_time": "2020-10-21T10:53:39.657Z"
    }
   },
   "outputs": [],
   "source": [
    "library(NGCircos)\n",
    "NGCircos(NGCircosAuxLine('AuxLine01'))"
   ]
  },
  {
   "cell_type": "markdown",
   "metadata": {},
   "source": [
    "## Background module"
   ]
  },
  {
   "cell_type": "markdown",
   "metadata": {},
   "source": [
    "There is no data input for Background module. The details for parameters are available by ?NGCircosBackground\n",
    "An example for Background module:"
   ]
  },
  {
   "cell_type": "code",
   "execution_count": null,
   "metadata": {
    "ExecuteTime": {
     "end_time": "2020-10-21T10:53:40.488955Z",
     "start_time": "2020-10-21T10:53:40.178Z"
    }
   },
   "outputs": [],
   "source": [
    "library(NGCircos) \n",
    "NGCircos(NGCircosBackground('bg01', fillColors=\"#FFEEEE\", borderSize = 1))"
   ]
  },
  {
   "cell_type": "markdown",
   "metadata": {},
   "source": [
    "## Bubble module"
   ]
  },
  {
   "cell_type": "markdown",
   "metadata": {},
   "source": [
    "The data is input throught the *data* parameter in bubble module. The details for parameters are available by ?NGCircosBubble\n",
    "An example for bubble module:"
   ]
  },
  {
   "cell_type": "code",
   "execution_count": null,
   "metadata": {
    "ExecuteTime": {
     "end_time": "2020-10-21T10:53:41.068180Z",
     "start_time": "2020-10-21T10:53:40.692Z"
    }
   },
   "outputs": [],
   "source": [
    "library(NGCircos)\n",
    "bubbleData<-bubbleExample\n",
    "NGCircos(NGCircosBubble('Bubble01', maxRadius = 230, minRadius = 170, data=bubbleData, blockStroke = TRUE, bubbleMaxSize =10, bubbleMinSize = 2, maxColor = \"red\", minColor = \"yellow\", totalLayer =3, animationDisplay = TRUE, animationType=\"linear\"),genome = list(\"2L\"=23011544,\"2R\"=21146708,\"3L\"=24543557,\"3R\"= 27905053,\"X\"=22422827,\"4\"=1351857), BUBBLEMouseOverDisplay =TRUE,innerRadius = 236)"
   ]
  },
  {
   "cell_type": "markdown",
   "metadata": {},
   "source": [
    "## Chord module"
   ]
  },
  {
   "cell_type": "markdown",
   "metadata": {},
   "source": [
    "The data is input throught the *data* parameter in chord module. The details for parameters are available by ?NGCircosChord\n",
    "An example for chord module:"
   ]
  },
  {
   "cell_type": "code",
   "execution_count": null,
   "metadata": {
    "ExecuteTime": {
     "end_time": "2020-10-21T10:53:41.578466Z",
     "start_time": "2020-10-21T10:53:41.359Z"
    },
    "scrolled": true
   },
   "outputs": [],
   "source": [
    "library(NGCircos)\n",
    "chordData<-chordExample\n",
    "NGCircos(NGCircosChord('CHORD01', data = chordData,innerRadius= 210,outerRadius= 211,fillOpacity=0.67,\n",
    "strokeColor=\"black\",strokeWidth= \"1px\",outerARCText=FALSE),genome=list(\"C.CK\" = 189.51,\"C.NPK\"=188,\"GC.CK\"=186.11,\n",
    "\"GC.NPK\"=191.51,\"Alphaproteobacteria\"=70.16,\"Betaproteobacteria\"=23.51,\"Gammaproteobacteria\"=25.51,\n",
    "\"Deltaproteobacteria\"=23.28,\"Acidobacteria\"=53.62,\"Actinobacteria\"=72.33,\"Bacteroidetes\"=22.41,\n",
    "\"Chloroflexi\"=15.08,\"Firmicutes\"=10.72,\"Gemmatimonadetes\"=26.37,\"Planctomycetes\"=19.26,\"Thaumarchaeota\"=6.15,\n",
    "\"Verrucomicrobia\"=8.3,\"Ascomycota\"=159.41,\"Basidiomycota\"=79.73,\"Zygomycota\"=139.29 ),outerRadius = 217,\n",
    "genomeLabelDisplay = FALSE)"
   ]
  },
  {
   "cell_type": "markdown",
   "metadata": {},
   "source": [
    "## Cnv module"
   ]
  },
  {
   "cell_type": "markdown",
   "metadata": {},
   "source": [
    "The data is input throught the *data* parameter in cnv module. The details for parameters are available by ?NGCircosCnv\n",
    "An example for cnv module:"
   ]
  },
  {
   "cell_type": "code",
   "execution_count": null,
   "metadata": {
    "ExecuteTime": {
     "end_time": "2020-10-21T10:53:42.130229Z",
     "start_time": "2020-10-21T10:53:41.792Z"
    }
   },
   "outputs": [],
   "source": [
    "library(NGCircos)\n",
    "cnvData<-cnvExample\n",
    "NGCircos(NGCircosCnv('Cnv01',maxRadius =175, minRadius =116, data =cnvData,width=2,color = \"#4876FF\")+\n",
    "NGCircosBackground(\"bg01\",minRadius = 116,maxRadius = 175,fillColors = \"#F2F2F2\",axisShow = TRUE),CNVMouseOverDisplay = TRUE)"
   ]
  },
  {
   "cell_type": "markdown",
   "metadata": {},
   "source": [
    "## Gene module"
   ]
  },
  {
   "cell_type": "markdown",
   "metadata": {},
   "source": [
    "The data is input throught the *data* parameter in gene module. The details for parameters are available by ?NGCircosGene\n",
    "An example for gene module:"
   ]
  },
  {
   "cell_type": "code",
   "execution_count": null,
   "metadata": {
    "ExecuteTime": {
     "end_time": "2020-10-21T10:53:43.342475Z",
     "start_time": "2020-10-21T10:53:43.055Z"
    }
   },
   "outputs": [],
   "source": [
    "library(NGCircos)\n",
    "geneData<-geneExample\n",
    "NGCircos(NGCircosGene('Gene01', outerRadius = 195, innerRadius = 180, data=geneData,arrowGap = 10,\n",
    " arrowColor = \"black\",arrowSize = \"12px\",cdsColor = \"#1e77b3\",cdsStrokeColor = \"#1e77b3\",cdsStrokeWidth= 5,\n",
    " utrWidth= -2,utrColor= \"#fe7f0e\",utrStrokeColor= \"#fe7f0e\",animationDisplay = TRUE),genome =list(\"EGFR\"=1000),\n",
    " outerRadius = 220)"
   ]
  },
  {
   "cell_type": "markdown",
   "metadata": {},
   "source": [
    "## Heatmap module"
   ]
  },
  {
   "cell_type": "markdown",
   "metadata": {},
   "source": [
    "The data is input throught the *data* parameter in heatmap module. The details for parameters are available by ?NGCircosHeatmap\n",
    "An example for heatmap module:"
   ]
  },
  {
   "cell_type": "code",
   "execution_count": null,
   "metadata": {
    "ExecuteTime": {
     "end_time": "2020-10-21T10:53:45.218610Z",
     "start_time": "2020-10-21T10:53:44.811Z"
    }
   },
   "outputs": [],
   "source": [
    "library(NGCircos)\n",
    "heatmapData<-heatmapExample\n",
    "NGCircos(NGCircosHeatmap('Heatmap01', maxRadius= 180, minRadius = 100, data=heatmapData,totalLayer = 3),\n",
    "genome = list(\"2L\"=23011544,\"2R\"=21146708,\"3L\"=24543557,\"3R\"=27905053,\"4\"=1351857,\"X\"=22422827),\n",
    "HEATMAPMouseEvent = TRUE,HEATMAPMouseOverDisplay = TRUE)"
   ]
  },
  {
   "cell_type": "markdown",
   "metadata": {},
   "source": [
    "## Histogram module"
   ]
  },
  {
   "cell_type": "markdown",
   "metadata": {},
   "source": [
    "The data is input throught the *data* parameter in histogram module. The details for parameters are available by ?NGCircosHistogram\n",
    "An example for histogram module:"
   ]
  },
  {
   "cell_type": "code",
   "execution_count": null,
   "metadata": {
    "ExecuteTime": {
     "end_time": "2020-10-21T10:53:50.758285Z",
     "start_time": "2020-10-21T10:53:50.509Z"
    }
   },
   "outputs": [],
   "source": [
    "library(NGCircos)\n",
    "histogramData<-histogramExample\n",
    "NGCircos(NGCircosHistogram('HISTOGRAM01', data = histogramData,fillColor= \"#ff7f0e\",maxRadius = 210,\n",
    "minRadius = 175),genome=list(\"2L\"=23011544,\"2R\"=21146708,\"3L\"=24543557,\"3R\"= 27905053,\"X\"=22422827,\"4\"=1351857),\n",
    "outerRadius = 220)"
   ]
  },
  {
   "cell_type": "markdown",
   "metadata": {},
   "source": [
    "## Legend module"
   ]
  },
  {
   "cell_type": "markdown",
   "metadata": {},
   "source": [
    "There is no data input for legend module. The details for parameters are available by ?NGCircosLegend\n",
    "An example for legend module:"
   ]
  },
  {
   "cell_type": "code",
   "execution_count": null,
   "metadata": {
    "ExecuteTime": {
     "end_time": "2020-10-21T10:53:51.994623Z",
     "start_time": "2020-10-21T10:53:51.786Z"
    }
   },
   "outputs": [],
   "source": [
    "library(NGCircos)\n",
    "legend1 <- list(type= \"circle\", color=\"#1E77B4\",opacity=\"1.0\",circleSize=\"8\",text= \"C.CK\", textSize= \"14\",textWeight=\"normal\")\n",
    "legend2 <- list(type= \"circle\", color=\"#AEC7E8\",opacity=\"1.0\",circleSize=\"8\",text= \"C.NPK\", textSize= \"14\",textWeight=\"normal\")\n",
    "NGCircos(NGCircosLegend('legend01', title = \"legend\",data=list(legend1,legend2),size = 20))"
   ]
  },
  {
   "cell_type": "markdown",
   "metadata": {},
   "source": [
    "## Line module"
   ]
  },
  {
   "cell_type": "markdown",
   "metadata": {},
   "source": [
    "The data is input throught the *data* parameter in line module. The details for parameters are available by ?NGCircosLine\n",
    "An example for line module:"
   ]
  },
  {
   "cell_type": "code",
   "execution_count": null,
   "metadata": {
    "ExecuteTime": {
     "end_time": "2020-10-21T10:53:53.288379Z",
     "start_time": "2020-10-21T10:53:52.921Z"
    }
   },
   "outputs": [],
   "source": [
    "library(NGCircos)\n",
    "lineData<-lineExample\n",
    "NGCircos(NGCircosLine('LINE01', data = lineData,maxRadius=200,minRadius=150,color= \"#ff0031\")+\n",
    "NGCircosBackground('BG01',minRadius = 205,maxRadius = 150))"
   ]
  },
  {
   "cell_type": "markdown",
   "metadata": {},
   "source": [
    "## Link module"
   ]
  },
  {
   "cell_type": "markdown",
   "metadata": {},
   "source": [
    "The data is input throught the *data* parameter in link module. The details for parameters are available by ?NGCircosLink\n",
    "An example for link module:"
   ]
  },
  {
   "cell_type": "code",
   "execution_count": null,
   "metadata": {
    "ExecuteTime": {
     "end_time": "2020-10-21T10:53:54.576370Z",
     "start_time": "2020-10-21T10:53:54.301Z"
    }
   },
   "outputs": [],
   "source": [
    "library(NGCircos)\n",
    "linkData<-linkExample\n",
    "NGCircos(NGCircosLink('LINK01', data = linkData,LinkRadius= 140,fillColor= \"#9e9ac6\",width= 2,\n",
    "axisPad= 3,labelPad=8,animationDisplay=TRUE,animationDirection=\"1to2\", animationType= \"linear\" ))"
   ]
  },
  {
   "cell_type": "markdown",
   "metadata": {},
   "source": [
    "## Lollipop module"
   ]
  },
  {
   "cell_type": "markdown",
   "metadata": {},
   "source": [
    "The data is input throught the *data* parameter in lollipop module. The details for parameters are available by ?NGCircosLollipop\n",
    "An example for lollipop module:"
   ]
  },
  {
   "cell_type": "code",
   "execution_count": null,
   "metadata": {
    "ExecuteTime": {
     "end_time": "2020-10-21T10:53:56.412578Z",
     "start_time": "2020-10-21T10:53:56.092Z"
    }
   },
   "outputs": [],
   "source": [
    "library(NGCircos)\n",
    "lollipopData<-lollipopExample\n",
    "arcData<-arcExample\n",
    "NGCircos(NGCircosLollipop('Lollipop01', data=lollipopData, fillColor=\"#9400D3\",\n",
    "circleSize= 6, strokeColor= \"#999999\", strokeWidth= \"1px\", animationDisplay=TRUE, lineWidth= 2,\n",
    "realStart= 101219350)+NGCircosArc('Arc01', outerRadius = 212, innerRadius = 224, data=arcData),\n",
    " genome=list(\"EGFR\"=1211),outerRadius = 220,genomeFillColor = c(\"grey\"))"
   ]
  },
  {
   "cell_type": "markdown",
   "metadata": {},
   "source": [
    "## Snp module"
   ]
  },
  {
   "cell_type": "markdown",
   "metadata": {},
   "source": [
    "The data is input throught the *data* parameter in snp module. The details for parameters are available by ?NGCircosSnp\n",
    "An example for snp module:"
   ]
  },
  {
   "cell_type": "code",
   "execution_count": null,
   "metadata": {
    "ExecuteTime": {
     "end_time": "2020-10-21T10:53:58.072614Z",
     "start_time": "2020-10-21T10:53:57.514Z"
    }
   },
   "outputs": [],
   "source": [
    "library(NGCircos)\n",
    "snpData<-snpExample\n",
    "NGCircos(NGCircosSnp('SNP01', minRadius =150, maxRadius = 190, data = snpExample,SNPFillColor= \"#9ACD32\", circleSize= 2, SNPAxisColor= \"#B8B8B8\", SNPAxisWidth= 0.5, SNPAnimationDisplay=TRUE,SNPAnimationTime= 2000, SNPAnimationDelay= 0, SNPAnimationType= \"linear\") + NGCircosBackground('BG01',minRadius = 145,maxRadius = 200))"
   ]
  },
  {
   "cell_type": "markdown",
   "metadata": {},
   "source": [
    "## Text module"
   ]
  },
  {
   "cell_type": "markdown",
   "metadata": {},
   "source": [
    "There is no data input for text module. The details for parameters are available by ?NGCircosText\n",
    "An example for text module:"
   ]
  },
  {
   "cell_type": "code",
   "execution_count": null,
   "metadata": {
    "ExecuteTime": {
     "end_time": "2020-10-21T10:53:59.367501Z",
     "start_time": "2020-10-21T10:53:59.162Z"
    }
   },
   "outputs": [],
   "source": [
    "library(NGCircos)  \n",
    "NGCircos(NGCircosText('text01', 'Annotation', color = '#DD2222', x = -40))"
   ]
  },
  {
   "cell_type": "markdown",
   "metadata": {},
   "source": [
    "## Wig module"
   ]
  },
  {
   "cell_type": "markdown",
   "metadata": {},
   "source": [
    "The data is input throught the *data* parameter in wig module. The details for parameters are available by ?NGCircosWig\n",
    "An example for wig module:"
   ]
  },
  {
   "cell_type": "code",
   "execution_count": null,
   "metadata": {
    "ExecuteTime": {
     "end_time": "2020-10-21T10:54:01.433114Z",
     "start_time": "2020-10-21T10:54:00.689Z"
    }
   },
   "outputs": [],
   "source": [
    "library(NGCircos)\n",
    "wigData<-wigExample\n",
    "NGCircos(NGCircosWig('WIG01', data = wigData, maxRadius= 200,minRadius= 150,strokeColor= \"darkblue\",\n",
    "color= \"lightblue\",strokeType= \"cardinal\")+NGCircosBackground('BG01',minRadius = 205,maxRadius = 150)\n",
    ",genome=list(\"chr8\"=1000),outerRadius = 220)"
   ]
  },
  {
   "cell_type": "markdown",
   "metadata": {},
   "source": [
    "## Saving plot"
   ]
  },
  {
   "cell_type": "markdown",
   "metadata": {
    "ExecuteTime": {
     "end_time": "2020-10-21T08:32:20.067831Z",
     "start_time": "2020-10-21T08:32:20.044Z"
    }
   },
   "source": [
    "If you are using RStudio, the plot can be saved as an image or a html page.\n",
    "\n",
    "If you are using R in command, the plot can be saved as a html page, thanks to the *htmlwidgets* library:"
   ]
  },
  {
   "cell_type": "code",
   "execution_count": null,
   "metadata": {},
   "outputs": [],
   "source": [
    "library(NGCircos)\n",
    "library(htmlwidgets)\n",
    "\n",
    "wigData<-wigExample\n",
    "plot <- NGCircos(NGCircosWig('WIG01', data = wigData, maxRadius= 200,minRadius= 150,strokeColor= \"darkblue\",\n",
    "color= \"lightblue\",strokeType= \"cardinal\")+NGCircosBackground('BG01',minRadius = 205,maxRadius = 150)\n",
    ",genome=list(\"chr8\"=1000),outerRadius = 220)\n",
    "\n",
    "saveWidget(plot, \"plot.html\")"
   ]
  },
  {
   "cell_type": "markdown",
   "metadata": {},
   "source": [
    "# Citation"
   ]
  },
  {
   "cell_type": "markdown",
   "metadata": {},
   "source": [
    "The NGCircos is originally published at https://academic.oup.com/nargab/article/2/3/lqaa069/5901067\n",
    "\n",
    "The NGCircos.r is originally published at \n",
    "\n",
    "Please contact cuizhe@hit.edu.cn or mrcuizhe@gmail.com for any question"
   ]
  },
  {
   "cell_type": "code",
   "execution_count": null,
   "metadata": {},
   "outputs": [],
   "source": []
  }
 ],
 "metadata": {
  "kernelspec": {
   "display_name": "R",
   "language": "R",
   "name": "ir"
  },
  "language_info": {
   "codemirror_mode": "r",
   "file_extension": ".r",
   "mimetype": "text/x-r-source",
   "name": "R",
   "pygments_lexer": "r",
   "version": "4.0.0"
  },
  "toc": {
   "base_numbering": 1,
   "nav_menu": {},
   "number_sections": false,
   "sideBar": true,
   "skip_h1_title": false,
   "title_cell": "Table of Contents",
   "title_sidebar": "Contents",
   "toc_cell": false,
   "toc_position": {
    "height": "calc(100% - 180px)",
    "left": "10px",
    "top": "150px",
    "width": "384px"
   },
   "toc_section_display": true,
   "toc_window_display": true
  }
 },
 "nbformat": 4,
 "nbformat_minor": 4
}
